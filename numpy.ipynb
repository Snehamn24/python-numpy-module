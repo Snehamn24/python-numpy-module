{
  "nbformat": 4,
  "nbformat_minor": 0,
  "metadata": {
    "colab": {
      "provenance": [],
      "authorship_tag": "ABX9TyOt46zxS1rT2wgOP9nkZ6fw",
      "include_colab_link": true
    },
    "kernelspec": {
      "name": "python3",
      "display_name": "Python 3"
    },
    "language_info": {
      "name": "python"
    }
  },
  "cells": [
    {
      "cell_type": "markdown",
      "metadata": {
        "id": "view-in-github",
        "colab_type": "text"
      },
      "source": [
        "<a href=\"https://colab.research.google.com/github/Snehamn24/python-numpy-module/blob/main/numpy.ipynb\" target=\"_parent\"><img src=\"https://colab.research.google.com/assets/colab-badge.svg\" alt=\"Open In Colab\"/></a>"
      ]
    },
    {
      "cell_type": "markdown",
      "source": [
        "# In numpy we can create the ndarray - n-dimensional array we have to pass either the tuple or the list to create the ndarray we use it for storing the matrices , vectors and tensors"
      ],
      "metadata": {
        "id": "lMgrXbZ48iEI"
      }
    },
    {
      "cell_type": "code",
      "source": [
        "import numpy as np\n",
        "\n",
        "#we have to use array method\n",
        "arr1 = np.array(40) #0-dimension\n",
        "arr2 = np.array([10,20]) #1-dimension array\n",
        "arr3 = np.array([[10,20],[30,40]]) #2-dimensional array\n",
        "print(arr1)\n",
        "print(arr2)\n",
        "print(arr3)\n",
        "print(type(arr1))\n"
      ],
      "metadata": {
        "colab": {
          "base_uri": "https://localhost:8080/"
        },
        "id": "eQOTf40q9D_t",
        "outputId": "f53c2c2d-20ef-45ae-ac94-7c555e57dae0"
      },
      "execution_count": 4,
      "outputs": [
        {
          "output_type": "stream",
          "name": "stdout",
          "text": [
            "40\n",
            "[10 20]\n",
            "[[10 20]\n",
            " [30 40]]\n",
            "<class 'numpy.ndarray'>\n"
          ]
        }
      ]
    },
    {
      "cell_type": "code",
      "source": [
        "#zeroes and ones in the numpy\n",
        "\n",
        "import numpy as np\n",
        "\n",
        "arr1 = np.zeros(3)\n",
        "print(arr1)\n",
        "\n",
        "arr2 = np.zeros([3,4])\n",
        "print(arr2)\n"
      ],
      "metadata": {
        "colab": {
          "base_uri": "https://localhost:8080/"
        },
        "id": "dyHMZsxM9YjQ",
        "outputId": "c517c645-6471-46e2-d5f4-e19feb8d5801"
      },
      "execution_count": 7,
      "outputs": [
        {
          "output_type": "stream",
          "name": "stdout",
          "text": [
            "[0. 0. 0.]\n",
            "[[0. 0. 0. 0.]\n",
            " [0. 0. 0. 0.]\n",
            " [0. 0. 0. 0.]]\n"
          ]
        }
      ]
    },
    {
      "cell_type": "markdown",
      "source": [
        "# 3-D array"
      ],
      "metadata": {
        "id": "GzNVH0Xb-nI1"
      }
    },
    {
      "cell_type": "code",
      "source": [
        "import numpy as np\n",
        "\n",
        "#3-d array is generally a array of 2-d arrays\n",
        "arr = np.array([[[1,2],[3,4]]\n",
        "                ,[[5,6],[7,8]]])\n",
        "print(arr)"
      ],
      "metadata": {
        "colab": {
          "base_uri": "https://localhost:8080/"
        },
        "id": "9RQE3FIM9zfZ",
        "outputId": "ac065bac-71de-4144-9001-b6ff54d7f565"
      },
      "execution_count": 10,
      "outputs": [
        {
          "output_type": "stream",
          "name": "stdout",
          "text": [
            "[[[1 2]\n",
            "  [3 4]]\n",
            "\n",
            " [[5 6]\n",
            "  [7 8]]]\n"
          ]
        }
      ]
    },
    {
      "cell_type": "markdown",
      "source": [
        "# NumPy Arrays provides the ndim attribute that returns an integer that tells us how many dimensions the array have."
      ],
      "metadata": {
        "id": "TxVgBsNKAdLl"
      }
    },
    {
      "cell_type": "code",
      "source": [
        "print(arr1.ndim)\n",
        "print(arr2.ndim)\n",
        "print(arr3.ndim)\n",
        "print(arr.ndim)"
      ],
      "metadata": {
        "colab": {
          "base_uri": "https://localhost:8080/"
        },
        "id": "NW50k6eU_ZSJ",
        "outputId": "a5123464-6d9e-4860-fefd-4bdba38c4d1b"
      },
      "execution_count": 12,
      "outputs": [
        {
          "output_type": "stream",
          "name": "stdout",
          "text": [
            "1\n",
            "2\n",
            "2\n",
            "3\n"
          ]
        }
      ]
    },
    {
      "cell_type": "code",
      "source": [
        "#we can create the ndarray of many dimensions as we need using the ndim = dimesion\n",
        "arr4 = np.array([1,2,3,4,5],ndmin=5)\n",
        "print(arr4)\n",
        "print(arr4.ndim)"
      ],
      "metadata": {
        "colab": {
          "base_uri": "https://localhost:8080/"
        },
        "id": "gHPgRyCKA3Hc",
        "outputId": "79c4ebfc-3051-4468-c458-7e6171fbeeb4"
      },
      "execution_count": 13,
      "outputs": [
        {
          "output_type": "stream",
          "name": "stdout",
          "text": [
            "[[[[[1 2 3 4 5]]]]]\n",
            "5\n"
          ]
        }
      ]
    },
    {
      "cell_type": "code",
      "source": [],
      "metadata": {
        "id": "P9LHpn3_CWWo"
      },
      "execution_count": null,
      "outputs": []
    }
  ]
}